{
 "cells": [
  {
   "cell_type": "markdown",
   "metadata": {
    "colab_type": "text",
    "id": "N_AwGtz0SbXw"
   },
   "source": [
    "# Introdução\n"
   ]
  },
  {
   "cell_type": "markdown",
   "metadata": {
    "colab_type": "text",
    "id": "JYYZ_Po2UFq2"
   },
   "source": [
    "Nesse pequeno tutorial vamos ver um pouco sobre\n",
    "* Jupyter\n",
    "* Pandas\n",
    "* Seaborn\n",
    "* Scikit-learn\n",
    "* eli5\n"
   ]
  },
  {
   "cell_type": "markdown",
   "metadata": {
    "colab_type": "text",
    "id": "qkIA3SkLUR30"
   },
   "source": [
    "# Jupyter"
   ]
  },
  {
   "cell_type": "markdown",
   "metadata": {
    "colab_type": "text",
    "id": "vT1LQWJdUgGw"
   },
   "source": [
    "O [Jupyter](https://jupyter.org/) é um ambiente de desenvolvimento para diversas linguagens interpretadas como Python e R.\n",
    "\n",
    "Permite a execução de \"blocos\" de código.\n",
    "\n",
    "Pode se mesclar códigos com explicações.\n",
    "\n",
    "Tutoriais:\n",
    "- https://www.datacamp.com/community/tutorials/tutorial-jupyter-notebook\n",
    "- https://www.dataquest.io/blog/jupyter-notebook-tutorial/"
   ]
  },
  {
   "cell_type": "markdown",
   "metadata": {
    "colab_type": "text",
    "id": "y1bAANh3neCK"
   },
   "source": [
    "Simples olá mundo"
   ]
  },
  {
   "cell_type": "code",
   "execution_count": null,
   "metadata": {
    "colab": {
     "base_uri": "https://localhost:8080/",
     "height": 34
    },
    "colab_type": "code",
    "id": "iwSFzhYUWHaw",
    "outputId": "a7f267fa-5418-4b8a-d2a8-de5ff4251e5d"
   },
   "outputs": [],
   "source": [
    "print(\"Olá mundo!\")"
   ]
  },
  {
   "cell_type": "markdown",
   "metadata": {
    "colab_type": "text",
    "id": "2keM1cppnjEC"
   },
   "source": [
    "Baixando a base de dados que iremos utilizar Iris:\n",
    "\n",
    "![Iris](http://s5047.pcdn.co/wp-content/uploads/2015/04/iris_petal_sepal.png)"
   ]
  },
  {
   "cell_type": "code",
   "execution_count": null,
   "metadata": {
    "colab": {
     "base_uri": "https://localhost:8080/",
     "height": 34
    },
    "colab_type": "code",
    "id": "JPHWDIIyWLob",
    "outputId": "d0f90d37-f173-45e8-9fed-e01b6ab258be"
   },
   "outputs": [],
   "source": [
    "import urllib.request\n",
    "\n",
    "url = \"https://archive.ics.uci.edu/ml/machine-learning-databases/iris/iris.data\"\n",
    "file = \"iris.data\"\n",
    "\n",
    "urllib.request.urlretrieve(url, file)"
   ]
  },
  {
   "cell_type": "markdown",
   "metadata": {
    "colab_type": "text",
    "id": "fNvYEacvVinY"
   },
   "source": [
    "# Pandas"
   ]
  },
  {
   "cell_type": "markdown",
   "metadata": {
    "colab_type": "text",
    "id": "uROEgKpRVkUn"
   },
   "source": [
    "A biblioteca [Pandas](https://pandas.pydata.org/) permite trabalhar com tabelas em python.\n",
    "\n",
    "Basicamente um Excel em Python.\n",
    "\n",
    "Tutoriais:\n",
    "- https://www.datacamp.com/community/tutorials/pandas-tutorial-dataframe-python\n",
    "- https://www.dataquest.io/blog/pandas-python-tutorial/"
   ]
  },
  {
   "cell_type": "markdown",
   "metadata": {
    "colab_type": "text",
    "id": "FHJI6fksno7E"
   },
   "source": [
    "Lendo o arquivo que baixamos antes e colocando nome em suas colunas"
   ]
  },
  {
   "cell_type": "code",
   "execution_count": null,
   "metadata": {
    "colab": {},
    "colab_type": "code",
    "id": "94nuk22rV69M"
   },
   "outputs": [],
   "source": [
    "import pandas as pd\n",
    "\n",
    "feature_names = [\"sepal length\", \"sepal width\", \"petal length\", \"petal width\"]\n",
    "class_name = \"species\"\n",
    "\n",
    "df = pd.read_csv(file, names=feature_names + [class_name])\n"
   ]
  },
  {
   "cell_type": "markdown",
   "metadata": {
    "colab_type": "text",
    "id": "Qo8fJ_42nvXx"
   },
   "source": [
    "O atributo `shape` mostra o formato da tabela em linhas e colunas.\n",
    "O método `head()` permite selecionar o início da tabela. Útil para conferir uma tabela."
   ]
  },
  {
   "cell_type": "code",
   "execution_count": null,
   "metadata": {
    "colab": {
     "base_uri": "https://localhost:8080/",
     "height": 224
    },
    "colab_type": "code",
    "id": "6ibHog_pXd4q",
    "outputId": "303eed5d-97bc-4c51-dc21-d39e585b2e54"
   },
   "outputs": [],
   "source": [
    "print(df.shape)\n",
    "df.head()"
   ]
  },
  {
   "cell_type": "markdown",
   "metadata": {
    "colab_type": "text",
    "id": "mVZvmPHeoHzz"
   },
   "source": [
    "É possivel selecionar colunas e linhas.\n",
    "Aqui selecionamos os elementos unicos na coluna `label`.\n",
    "\n"
   ]
  },
  {
   "cell_type": "code",
   "execution_count": null,
   "metadata": {
    "colab": {
     "base_uri": "https://localhost:8080/",
     "height": 34
    },
    "colab_type": "code",
    "id": "-JpKBPl8X8cx",
    "outputId": "779d1c4b-b602-4de8-e1f7-ad56f72711c5"
   },
   "outputs": [],
   "source": [
    "df[class_name].unique()"
   ]
  },
  {
   "cell_type": "markdown",
   "metadata": {
    "colab_type": "text",
    "id": "f3Q_Mcs1oZW_"
   },
   "source": [
    "Aqui já selecionamos a linha com index 2"
   ]
  },
  {
   "cell_type": "code",
   "execution_count": null,
   "metadata": {
    "colab": {
     "base_uri": "https://localhost:8080/",
     "height": 121
    },
    "colab_type": "code",
    "id": "R5ft_2MuX3OL",
    "outputId": "1177fa24-7d5c-44fe-c75e-da0ee4ec220b"
   },
   "outputs": [],
   "source": [
    "df.iloc[2]"
   ]
  },
  {
   "cell_type": "markdown",
   "metadata": {
    "colab_type": "text",
    "id": "vVaPCWlfof6G"
   },
   "source": [
    "`describe()` apresenta algumas informações interessantes de cada coluna com valores númericos."
   ]
  },
  {
   "cell_type": "code",
   "execution_count": null,
   "metadata": {
    "colab": {
     "base_uri": "https://localhost:8080/",
     "height": 300
    },
    "colab_type": "code",
    "id": "uT0M3Y6G87Io",
    "outputId": "6c3eea40-6fcc-44a9-b055-c3e64c5d0fa6"
   },
   "outputs": [],
   "source": [
    "df.describe()"
   ]
  },
  {
   "cell_type": "markdown",
   "metadata": {
    "colab_type": "text",
    "id": "t7g96C82ov0S"
   },
   "source": [
    "A biblioteca [seaborn](https://seaborn.pydata.org/) facilita plotar alguns gráficos com mais detalhes."
   ]
  },
  {
   "cell_type": "code",
   "execution_count": null,
   "metadata": {
    "colab": {
     "base_uri": "https://localhost:8080/",
     "height": 746
    },
    "colab_type": "code",
    "id": "0s_kQNgy9sHo",
    "outputId": "2eda58b0-1b03-44d0-ef8c-1e1ca6f91789"
   },
   "outputs": [],
   "source": [
    "import seaborn as sns\n",
    "\n",
    "sns.pairplot(df, hue=class_name)"
   ]
  },
  {
   "cell_type": "markdown",
   "metadata": {
    "colab_type": "text",
    "id": "GuUFgCDYSfGr"
   },
   "source": [
    "# Scikit-learn"
   ]
  },
  {
   "cell_type": "markdown",
   "metadata": {
    "colab_type": "text",
    "id": "eEfcNWneppvb"
   },
   "source": [
    "A biblioteca [scikit-learn](https://scikit-learn.org/) oferece diversas ferramentas para a mineração e análise de dados.\n",
    "\n",
    "Ela possui ferramentas para pré-processamento, classificação, clusterização, regressão entre outras.\n",
    "\n",
    "Tutoriais:\n",
    "- https://www.datacamp.com/community/tutorials/machine-learning-python\n",
    "- https://www.dataquest.io/blog/sci-kit-learn-tutorial/"
   ]
  },
  {
   "cell_type": "markdown",
   "metadata": {
    "colab_type": "text",
    "id": "GAZhxY9urPWd"
   },
   "source": [
    "Antes de qualquer coisa vamos primeiro separar os atributos preditivos do atributo classe"
   ]
  },
  {
   "cell_type": "code",
   "execution_count": null,
   "metadata": {
    "colab": {},
    "colab_type": "code",
    "id": "RYMDxHPhrXua"
   },
   "outputs": [],
   "source": [
    "X = df[feature_names]\n",
    "y = df[class_name]"
   ]
  },
  {
   "cell_type": "markdown",
   "metadata": {
    "colab_type": "text",
    "id": "p-Vt8G8Hqcn5"
   },
   "source": [
    "Podemos ver nas análises anteriores que nossa base não está normalizada.\n",
    "\n",
    "Como normalizar esses dados?"
   ]
  },
  {
   "cell_type": "code",
   "execution_count": null,
   "metadata": {
    "colab": {},
    "colab_type": "code",
    "id": "-cqARrAxqadw"
   },
   "outputs": [],
   "source": [
    "from sklearn.preprocessing import MinMaxScaler\n",
    "\n",
    "scaler = MinMaxScaler()\n",
    "scaler_model = scaler.fit(X)\n",
    "\n",
    "normalized_X = scaler_model.transform(X)"
   ]
  },
  {
   "cell_type": "markdown",
   "metadata": {
    "colab_type": "text",
    "id": "8qeiO7FEsJZS"
   },
   "source": [
    "Será que os dados mudaram muito?"
   ]
  },
  {
   "cell_type": "code",
   "execution_count": null,
   "metadata": {
    "colab": {
     "base_uri": "https://localhost:8080/",
     "height": 206
    },
    "colab_type": "code",
    "id": "rbA219-4sb4h",
    "outputId": "465372a6-49da-4d7d-fdcc-1ccfddeb7893"
   },
   "outputs": [],
   "source": [
    "X_df = pd.DataFrame(normalized_X, columns=feature_names)\n",
    "X_df[class_name] = y\n",
    "X_df.head()"
   ]
  },
  {
   "cell_type": "code",
   "execution_count": null,
   "metadata": {
    "colab": {
     "base_uri": "https://localhost:8080/",
     "height": 300
    },
    "colab_type": "code",
    "id": "00clG4StyUPF",
    "outputId": "274acf08-8ae6-4b5d-df7a-9f56a2a53c68"
   },
   "outputs": [],
   "source": [
    "X_df.describe()"
   ]
  },
  {
   "cell_type": "code",
   "execution_count": null,
   "metadata": {
    "colab": {
     "base_uri": "https://localhost:8080/",
     "height": 746
    },
    "colab_type": "code",
    "id": "ZAMLd9B8xqi0",
    "outputId": "0171cd3d-247b-4feb-cb44-d688007f2aec"
   },
   "outputs": [],
   "source": [
    "sns.pairplot(X_df, hue=class_name)"
   ]
  },
  {
   "cell_type": "markdown",
   "metadata": {
    "colab_type": "text",
    "id": "A-IgSLGSyze-"
   },
   "source": [
    "Vamos treinar um modelo para classificaçãos utilizando árvore de decisão."
   ]
  },
  {
   "cell_type": "code",
   "execution_count": null,
   "metadata": {
    "colab": {},
    "colab_type": "code",
    "id": "-clLkBPnyyiJ"
   },
   "outputs": [],
   "source": [
    "from sklearn.tree import DecisionTreeClassifier\n",
    "\n",
    "dt = DecisionTreeClassifier()\n",
    "model = dt.fit(normalized_X, y)"
   ]
  },
  {
   "cell_type": "markdown",
   "metadata": {
    "colab_type": "text",
    "id": "UFGmFD4A4jNF"
   },
   "source": [
    "Algumas instâncias fictícias para testar o modelo."
   ]
  },
  {
   "cell_type": "code",
   "execution_count": null,
   "metadata": {
    "colab": {},
    "colab_type": "code",
    "id": "u6QyYIZy0wAz"
   },
   "outputs": [],
   "source": [
    "instances_to_predict = [[4.7,   2,   6.8,  0.3],\n",
    "                        [4.5, 4.4, 2.05, 1.9],\n",
    "                        [7,   2,   1.1,  2.2]]"
   ]
  },
  {
   "cell_type": "code",
   "execution_count": null,
   "metadata": {
    "colab": {
     "base_uri": "https://localhost:8080/",
     "height": 34
    },
    "colab_type": "code",
    "id": "dDKtOtLo4qts",
    "outputId": "f54a0468-5521-46b1-ca5d-3ae5e7d84f91"
   },
   "outputs": [],
   "source": [
    "model.predict(instances_to_predict)"
   ]
  },
  {
   "cell_type": "markdown",
   "metadata": {
    "colab_type": "text",
    "id": "PDfrmOD_5JN-"
   },
   "source": [
    "Notam algum problema?\n",
    "\n",
    "Precisamos aplicar o mesmo pré-processamento para todas instâncias."
   ]
  },
  {
   "cell_type": "code",
   "execution_count": null,
   "metadata": {
    "colab": {
     "base_uri": "https://localhost:8080/",
     "height": 34
    },
    "colab_type": "code",
    "id": "tJvTJXIA5Ba4",
    "outputId": "551847fb-209c-45ce-add0-054b6634f58e"
   },
   "outputs": [],
   "source": [
    "normalized_instances = scaler_model.transform(instances_to_predict)\n",
    "model.predict(normalized_instances)"
   ]
  },
  {
   "cell_type": "code",
   "execution_count": null,
   "metadata": {
    "colab": {
     "base_uri": "https://localhost:8080/",
     "height": 69
    },
    "colab_type": "code",
    "id": "M2gI8Ytmf3z9",
    "outputId": "902cbbbf-bca8-420b-ffb4-f985bfacc584"
   },
   "outputs": [],
   "source": [
    "normalized_instances"
   ]
  },
  {
   "cell_type": "markdown",
   "metadata": {
    "colab_type": "text",
    "id": "7YxhvFCqSjM4"
   },
   "source": [
    "# Avaliação"
   ]
  },
  {
   "cell_type": "markdown",
   "metadata": {
    "colab_type": "text",
    "id": "3PufzRnK6nas"
   },
   "source": [
    "Nosso modelo funciona, mas ele é bom?\n",
    "\n",
    "Precisamos avaliá-lo!"
   ]
  },
  {
   "cell_type": "code",
   "execution_count": null,
   "metadata": {
    "colab": {
     "base_uri": "https://localhost:8080/",
     "height": 86
    },
    "colab_type": "code",
    "id": "3A9PTOp26xvV",
    "outputId": "0d8c9d86-d435-4559-f33c-cd1172eed295"
   },
   "outputs": [],
   "source": [
    "from sklearn.model_selection import cross_val_score\n",
    "\n",
    "scores = cross_val_score(dt, normalized_X, y, cv=10, scoring=\"f1_micro\")\n",
    "print(\"Micro F1: \")\n",
    "print(\"Valores: \", scores)\n",
    "print(\"Média: \", sum(scores) / len(scores))"
   ]
  },
  {
   "cell_type": "code",
   "execution_count": null,
   "metadata": {
    "colab": {
     "base_uri": "https://localhost:8080/",
     "height": 86
    },
    "colab_type": "code",
    "id": "kkyEatSt7pkR",
    "outputId": "17a4a0ed-e465-47e5-d348-4ae29ee3bad6"
   },
   "outputs": [],
   "source": [
    "scores = cross_val_score(dt, normalized_X, y, cv=10, scoring=\"f1_macro\")\n",
    "print(\"Macro F1: \")\n",
    "print(\"Valores: \", scores)\n",
    "print(\"Média: \", sum(scores) / len(scores))"
   ]
  },
  {
   "cell_type": "markdown",
   "metadata": {
    "colab_type": "text",
    "id": "xgcsKmrhSl93"
   },
   "source": [
    "# Avançado"
   ]
  },
  {
   "cell_type": "markdown",
   "metadata": {
    "colab_type": "text",
    "id": "Of6i47Sk8bt2"
   },
   "source": [
    "É interessante juntar todas as tarefas utilizadas em uma pipeline para facilitar a utilização e parametrização."
   ]
  },
  {
   "cell_type": "code",
   "execution_count": null,
   "metadata": {
    "colab": {
     "base_uri": "https://localhost:8080/",
     "height": 139
    },
    "colab_type": "code",
    "id": "j9uy0EHp8awS",
    "outputId": "2dd3f2a8-d528-4bd4-b11b-afb71a107ced"
   },
   "outputs": [],
   "source": [
    "from sklearn.pipeline import Pipeline\n",
    "\n",
    "steps = [(\"Scaler\", scaler),\n",
    "         (\"Classifier\", dt)]\n",
    "\n",
    "full_pipeline = Pipeline(steps)\n",
    "\n",
    "full_pipeline"
   ]
  },
  {
   "cell_type": "markdown",
   "metadata": {
    "colab_type": "text",
    "id": "UfVBTV4j9JnQ"
   },
   "source": [
    "Fazendo uma busca por melhores parametros."
   ]
  },
  {
   "cell_type": "code",
   "execution_count": null,
   "metadata": {
    "colab": {
     "base_uri": "https://localhost:8080/",
     "height": 139
    },
    "colab_type": "code",
    "id": "6ALr0fxy92DW",
    "outputId": "46358d25-191f-45ca-8803-3934ea8afb7c"
   },
   "outputs": [],
   "source": [
    "from sklearn.model_selection import GridSearchCV\n",
    "\n",
    "param_grid = {'Classifier__criterion': [\"gini\", \"entropy\"],\n",
    "              'Classifier__min_samples_leaf': [1, 2, 3],\n",
    "              'Classifier__min_samples_split': [0.2, 0.5, 0.7]}\n",
    "\n",
    "gscv = GridSearchCV(full_pipeline, param_grid, cv=10)\n",
    "\n",
    "gscv.fit(X, y)\n",
    "\n",
    "best_config = gscv.best_estimator_\n",
    "print(best_config, gscv.best_score_)"
   ]
  },
  {
   "cell_type": "markdown",
   "metadata": {
    "colab_type": "text",
    "id": "XPqS8MPrMOhC"
   },
   "source": [
    "Podemos utilizar essa métrica para julgar o modelo?"
   ]
  },
  {
   "cell_type": "markdown",
   "metadata": {
    "colab_type": "text",
    "id": "wFmKYslOSvN3"
   },
   "source": [
    "# Extra: eli5"
   ]
  },
  {
   "cell_type": "markdown",
   "metadata": {
    "colab_type": "text",
    "id": "WRVBNZwSM0ka"
   },
   "source": [
    "A bliblioteca [eli5](https://eli5.readthedocs.io/) pode ajudar a descobrir por que um classificador classificou daquela forma."
   ]
  },
  {
   "cell_type": "code",
   "execution_count": null,
   "metadata": {
    "colab": {
     "base_uri": "https://localhost:8080/",
     "height": 861
    },
    "colab_type": "code",
    "id": "_73tPZFUvZX6",
    "outputId": "8f9ccdb1-9416-474e-97ff-d1f7878e552a"
   },
   "outputs": [],
   "source": [
    "import eli5\n",
    "\n",
    "eli5.show_weights(best_config, top=10, feature_names=feature_names,\n",
    "                  target_names=best_config.classes_)"
   ]
  },
  {
   "cell_type": "code",
   "execution_count": null,
   "metadata": {},
   "outputs": [],
   "source": []
  }
 ],
 "metadata": {
  "colab": {
   "name": "Tutorial Scikit.ipynb",
   "provenance": [],
   "toc_visible": true,
   "version": "0.3.2"
  },
  "kernelspec": {
   "display_name": "Python 3",
   "language": "python",
   "name": "python3"
  },
  "language_info": {
   "codemirror_mode": {
    "name": "ipython",
    "version": 3
   },
   "file_extension": ".py",
   "mimetype": "text/x-python",
   "name": "python",
   "nbconvert_exporter": "python",
   "pygments_lexer": "ipython3",
   "version": "3.7.3"
  },
  "pycharm": {
   "stem_cell": {
    "cell_type": "raw",
    "source": [],
    "metadata": {
     "collapsed": false
    }
   }
  }
 },
 "nbformat": 4,
 "nbformat_minor": 1
}